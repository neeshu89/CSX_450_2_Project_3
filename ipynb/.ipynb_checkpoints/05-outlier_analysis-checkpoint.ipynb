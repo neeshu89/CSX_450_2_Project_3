{
 "cells": [
  {
   "cell_type": "markdown",
   "metadata": {},
   "source": [
    "# Outlier Analysis"
   ]
  },
  {
   "cell_type": "code",
   "execution_count": 2,
   "metadata": {},
   "outputs": [],
   "source": [
    "import pandas as pd\n",
    "import numpy as np"
   ]
  },
  {
   "cell_type": "code",
   "execution_count": 3,
   "metadata": {},
   "outputs": [],
   "source": [
    "housing_box_sc = pd.read_pickle('final_box_cox_sc.p')"
   ]
  },
  {
   "cell_type": "markdown",
   "metadata": {},
   "source": [
    "## Using Tukey's Method to Identify Outliers\n",
    "In this case, I changed the Tukey parameter to 1, to identify more outliers. With the original 1.5 Tukey Parameter, we were only seeing outliers in 3 features."
   ]
  },
  {
   "cell_type": "code",
   "execution_count": 4,
   "metadata": {},
   "outputs": [],
   "source": [
    "def display_outliers(dataframe, col, param=1):\n",
    "    Q1 = np.percentile(dataframe[col], 25)\n",
    "    Q3 = np.percentile(dataframe[col], 75)\n",
    "    tukey_window = param*(Q3-Q1)\n",
    "    less_than_Q1 = dataframe[col] < Q1 - tukey_window\n",
    "    greater_than_Q3 = dataframe[col] > Q3 + tukey_window\n",
    "    tukey_mask = (less_than_Q1 | greater_than_Q3)\n",
    "    return dataframe[tukey_mask]"
   ]
  },
  {
   "cell_type": "code",
   "execution_count": 5,
   "metadata": {},
   "outputs": [
    {
     "name": "stdout",
     "output_type": "stream",
     "text": [
      "CRIM (0, 12)\n",
      "INDUS (0, 12)\n",
      "NOX (0, 12)\n",
      "RM (26, 12)\n",
      "AGE (0, 12)\n",
      "DIS (0, 12)\n",
      "RAD (0, 12)\n",
      "TAX (0, 12)\n",
      "PTRATIO (0, 12)\n",
      "B (70, 12)\n",
      "LSTAT (0, 12)\n",
      "MEDV (50, 12)\n"
     ]
    }
   ],
   "source": [
    "for col in housing_box_sc:\n",
    "    print(col, display_outliers(housing_box_sc, col, param=1.5).shape)"
   ]
  },
  {
   "cell_type": "code",
   "execution_count": 6,
   "metadata": {},
   "outputs": [
    {
     "name": "stdout",
     "output_type": "stream",
     "text": [
      "CRIM (0, 12)\n",
      "INDUS (0, 12)\n",
      "NOX (0, 12)\n",
      "RM (55, 12)\n",
      "AGE (0, 12)\n",
      "DIS (0, 12)\n",
      "RAD (0, 12)\n",
      "TAX (0, 12)\n",
      "PTRATIO (0, 12)\n",
      "B (84, 12)\n",
      "LSTAT (5, 12)\n",
      "MEDV (79, 12)\n"
     ]
    }
   ],
   "source": [
    "for col in housing_box_sc:\n",
    "    print(col, display_outliers(housing_box_sc, col, param=1).shape)"
   ]
  },
  {
   "cell_type": "markdown",
   "metadata": {},
   "source": [
    "## Identify instances that are an outlier in..."
   ]
  },
  {
   "cell_type": "code",
   "execution_count": 11,
   "metadata": {},
   "outputs": [],
   "source": [
    "from collections import Counter"
   ]
  },
  {
   "cell_type": "code",
   "execution_count": 7,
   "metadata": {},
   "outputs": [],
   "source": [
    "raw_outliers = []\n",
    "for col in housing_box_sc:\n",
    "    outlier_df = display_outliers(housing_box_sc, col)\n",
    "    raw_outliers += list(outlier_df.index)"
   ]
  },
  {
   "cell_type": "markdown",
   "metadata": {},
   "source": [
    "### 1 Outliers"
   ]
  },
  {
   "cell_type": "code",
   "execution_count": 20,
   "metadata": {
    "scrolled": true
   },
   "outputs": [
    {
     "data": {
      "text/plain": [
       "95"
      ]
     },
     "execution_count": 20,
     "metadata": {},
     "output_type": "execute_result"
    }
   ],
   "source": [
    "outlier_count = Counter(raw_outliers)\n",
    "outliers1 = [k for k,v in outlier_count.items() if v == 1]\n",
    "len(outliers1)"
   ]
  },
  {
   "cell_type": "markdown",
   "metadata": {},
   "source": [
    "### 2 Outliers"
   ]
  },
  {
   "cell_type": "code",
   "execution_count": 21,
   "metadata": {},
   "outputs": [
    {
     "data": {
      "text/plain": [
       "56"
      ]
     },
     "execution_count": 21,
     "metadata": {},
     "output_type": "execute_result"
    }
   ],
   "source": [
    "outliers2 = [k for k,v in outlier_count.items() if v == 2]\n",
    "len(outliers2)"
   ]
  },
  {
   "cell_type": "markdown",
   "metadata": {},
   "source": [
    "### > 2 Outliers"
   ]
  },
  {
   "cell_type": "code",
   "execution_count": 23,
   "metadata": {},
   "outputs": [
    {
     "data": {
      "text/plain": [
       "5"
      ]
     },
     "execution_count": 23,
     "metadata": {},
     "output_type": "execute_result"
    }
   ],
   "source": [
    "outliersmore = [k for k,v in outlier_count.items() if v > 2]\n",
    "len(outliersmore)"
   ]
  },
  {
   "cell_type": "markdown",
   "metadata": {},
   "source": [
    "### Proportions of total data"
   ]
  },
  {
   "cell_type": "code",
   "execution_count": 28,
   "metadata": {},
   "outputs": [
    {
     "name": "stdout",
     "output_type": "stream",
     "text": [
      "0.18774703557312253\n",
      "0.11067193675889328\n",
      "0.009881422924901186\n"
     ]
    }
   ],
   "source": [
    "print(len(outliers1)/len(housing_box_sc))\n",
    "print(len(outliers2)/len(housing_box_sc))\n",
    "print(len(outliersmore)/len(housing_box_sc))"
   ]
  },
  {
   "cell_type": "markdown",
   "metadata": {},
   "source": [
    "## Discussion\n",
    "I will definitely throw out the 5 instances that have more than 2 outliers, as they represent less than 1 percent of the total data.\n",
    "\n",
    "Of the 56 and 95 instances that have 1 or 2 instances of outliers, I will likely run the regression both including and excluding the outliers to see how it impacts the performance of the model."
   ]
  },
  {
   "cell_type": "code",
   "execution_count": null,
   "metadata": {},
   "outputs": [],
   "source": []
  }
 ],
 "metadata": {
  "kernelspec": {
   "display_name": "Python 3",
   "language": "python",
   "name": "python3"
  },
  "language_info": {
   "codemirror_mode": {
    "name": "ipython",
    "version": 3
   },
   "file_extension": ".py",
   "mimetype": "text/x-python",
   "name": "python",
   "nbconvert_exporter": "python",
   "pygments_lexer": "ipython3",
   "version": "3.6.3"
  }
 },
 "nbformat": 4,
 "nbformat_minor": 2
}
