{
 "cells": [
  {
   "cell_type": "code",
   "execution_count": null,
   "metadata": {},
   "outputs": [],
   "source": [
    "import pandas as pd\n",
    "import numpy as np\n",
    "import seaborn as sns\n",
    "%matplotlib inline"
   ]
  },
  {
   "cell_type": "code",
   "execution_count": null,
   "metadata": {},
   "outputs": [],
   "source": [
    "housing = pd.read_table('https://archive.ics.uci.edu/ml/machine-learning-databases/housing/housing.data',header=None, sep='\\s+',\n",
    "                       names = [\"CRIM\", \"ZN\", \"INDUS\", \"CHAS\", \"NOX\", \"RM\", \"AGE\",\"DIS\", \n",
    "                                             \"RAD\", \"TAX\", \"PTRATIO\", \"B\", \"LSTAT\", \"MEDV\"])\n",
    "housing.shape"
   ]
  },
  {
   "cell_type": "code",
   "execution_count": null,
   "metadata": {},
   "outputs": [],
   "source": [
    "housing"
   ]
  },
  {
   "cell_type": "code",
   "execution_count": null,
   "metadata": {},
   "outputs": [],
   "source": [
    "from scipy.stats import skew\n",
    "\n",
    "stats = housing.describe().T\n",
    "stats['skew'] = skew(housing)\n",
    "stats"
   ]
  },
  {
   "cell_type": "code",
   "execution_count": null,
   "metadata": {},
   "outputs": [],
   "source": [
    "import random\n",
    "\n",
    "np.random.seed(12)\n",
    "\n",
    "sample1pct = housing.sample(5)\n",
    "sample1pctstats = pd.DataFrame({\n",
    "                    'Sample Mean': sample1pct.mean(),\n",
    "                    'Diff from Mean': sample1pct.mean() - stats['mean'],\n",
    "                    'Norm diff fr M': (sample1pct.mean() - stats['mean'])/stats['std']\n",
    "})\n",
    "sample1pctstats"
   ]
  },
  {
   "cell_type": "code",
   "execution_count": null,
   "metadata": {},
   "outputs": [],
   "source": [
    "sample5pct = housing.sample(25)\n",
    "sample5pctstats = pd.DataFrame({\n",
    "                    'Sample Mean': sample5pct.mean(),\n",
    "                    'Diff from Mean': sample5pct.mean() - stats['mean'],\n",
    "                    'Norm diff fr M': (sample5pct.mean() - stats['mean'])/stats['std']\n",
    "})\n",
    "sample5pctstats"
   ]
  },
  {
   "cell_type": "code",
   "execution_count": null,
   "metadata": {},
   "outputs": [],
   "source": [
    "sample10pct = housing.sample(50)\n",
    "sample10pctstats = pd.DataFrame({\n",
    "                    'Sample Mean': sample10pct.mean(),\n",
    "                    'Diff from Mean': sample10pct.mean() - stats['mean'],\n",
    "                    'Norm diff fr M': (sample10pct.mean() - stats['mean'])/stats['std']\n",
    "})\n",
    "sample10pctstats"
   ]
  },
  {
   "cell_type": "code",
   "execution_count": null,
   "metadata": {},
   "outputs": [],
   "source": [
    "sample20pct = housing.sample(100)\n",
    "sample20pctstats = pd.DataFrame({\n",
    "                    'Sample Mean': sample20pct.mean(),\n",
    "                    'Diff from Mean': sample20pct.mean() - stats['mean'],\n",
    "                    'Norm diff fr M': (sample20pct.mean() - stats['mean'])/stats['std']\n",
    "})\n",
    "sample20pctstats"
   ]
  },
  {
   "cell_type": "code",
   "execution_count": null,
   "metadata": {},
   "outputs": [],
   "source": [
    "sample30pct = housing.sample(150)\n",
    "sample30pctstats = pd.DataFrame({\n",
    "                    'Sample Mean': sample30pct.mean(),\n",
    "                    'Diff from Mean': sample30pct.mean() - stats['mean'],\n",
    "                    'Norm diff fr M': (sample30pct.mean() - stats['mean'])/stats['std']\n",
    "})\n",
    "sample30pctstats"
   ]
  },
  {
   "cell_type": "code",
   "execution_count": null,
   "metadata": {},
   "outputs": [],
   "source": [
    "sample_means = []\n",
    "for _ in range(10):\n",
    "    sample_means.append(housing.sample(5).mean())\n",
    "\n",
    "sample_means = np.array(sample_means)\n",
    "(sample_means.mean(axis=0)-stats['mean'])/stats['std']"
   ]
  },
  {
   "cell_type": "code",
   "execution_count": null,
   "metadata": {},
   "outputs": [],
   "source": [
    "sample_means = []\n",
    "for _ in range(50):\n",
    "    sample_means.append(housing.sample(5).mean())\n",
    "\n",
    "sample_means = np.array(sample_means)\n",
    "(sample_means.mean(axis=0)-stats['mean'])/stats['std']"
   ]
  },
  {
   "cell_type": "code",
   "execution_count": null,
   "metadata": {},
   "outputs": [],
   "source": [
    "sample_means = []\n",
    "for _ in range(100):\n",
    "    sample_means.append(housing.sample(5).mean())\n",
    "\n",
    "sample_means = np.array(sample_means)\n",
    "(sample_means.mean(axis=0)-stats['mean'])/stats['std']"
   ]
  },
  {
   "cell_type": "code",
   "execution_count": null,
   "metadata": {},
   "outputs": [],
   "source": []
  }
 ],
 "metadata": {
  "kernelspec": {
   "display_name": "Python 3",
   "language": "python",
   "name": "python3"
  },
  "language_info": {
   "codemirror_mode": {
    "name": "ipython",
    "version": 3
   },
   "file_extension": ".py",
   "mimetype": "text/x-python",
   "name": "python",
   "nbconvert_exporter": "python",
   "pygments_lexer": "ipython3",
   "version": "3.6.3"
  }
 },
 "nbformat": 4,
 "nbformat_minor": 2
}
